{
 "cells": [
  {
   "cell_type": "code",
   "execution_count": 40,
   "metadata": {},
   "outputs": [],
   "source": [
    "import pandas as pd\n",
    "import utils\n",
    "import string"
   ]
  },
  {
   "cell_type": "code",
   "execution_count": 2,
   "metadata": {},
   "outputs": [],
   "source": [
    "geo_df = pd.read_csv('data/Geo/district_crosswalk_small.csv')"
   ]
  },
  {
   "cell_type": "code",
   "execution_count": 7,
   "metadata": {},
   "outputs": [],
   "source": [
    "averages_df = utils.mergeCsvsInDirectory('data/DailyAverages')"
   ]
  },
  {
   "cell_type": "code",
   "execution_count": 14,
   "metadata": {},
   "outputs": [],
   "source": [
    "annual_df = averages_df.groupby(by=['year', 'unique_dist_id']).mean().reset_index()"
   ]
  },
  {
   "cell_type": "code",
   "execution_count": 24,
   "metadata": {},
   "outputs": [],
   "source": [
    "named_df = annual_df.merge(geo_df, how='inner', on='unique_dist_id')"
   ]
  },
  {
   "cell_type": "code",
   "execution_count": 59,
   "metadata": {},
   "outputs": [],
   "source": [
    "temp_df = named_df[['year','distname_iaa','weightedAverageTemperature']].rename(\n",
    "    columns={\n",
    "        'weightedAverageTemperature':'temperature',\n",
    "        'distname_iaa': 'district'\n",
    "    }).sort_values(by=['district','year']).pivot(index='district', columns='year').reset_index()\n",
    "\n",
    "temp_df['district'] = temp_df['district'].apply(lambda x: x.capitalize())\n",
    "temp_df = temp_df.set_index('district')"
   ]
  },
  {
   "cell_type": "code",
   "execution_count": 57,
   "metadata": {},
   "outputs": [],
   "source": [
    "rain_df = named_df[['year','distname_iaa','weightedAverageRainfall']].rename(\n",
    "    columns={\n",
    "        'weightedAverageTemperature':'temperature',\n",
    "        'distname_iaa': 'district'\n",
    "    }).sort_values(by=['district','year']).pivot(index='district', columns='year').reset_index()\n",
    "\n",
    "rain_df['district'] = rain_df['district'].apply(lambda x: x.capitalize())\n",
    "rain_df = rain_df.set_index('district')"
   ]
  },
  {
   "cell_type": "code",
   "execution_count": 67,
   "metadata": {},
   "outputs": [],
   "source": [
    "annual_rain_df = averages_df.groupby(by=['year', 'unique_dist_id']) \\\n",
    ".sum().reset_index().merge(geo_df, how='inner', on='unique_dist_id')[\n",
    "    ['year','distname_iaa','weightedAverageRainfall']\n",
    "].rename(\n",
    "    columns={\n",
    "        'weightedAverageRainfall':'rainfall',\n",
    "        'distname_iaa': 'district'\n",
    "    }).sort_values(by=['district','year']).pivot(index='district', columns='year').reset_index()\n",
    "\n",
    "annual_rain_df['district'] = annual_rain_df['district'].apply(lambda x: x.capitalize())\n",
    "annual_rain_df = annual_rain_df.set_index('district')"
   ]
  },
  {
   "cell_type": "code",
   "execution_count": 71,
   "metadata": {},
   "outputs": [
    {
     "name": "stdout",
     "output_type": "stream",
     "text": [
      "\\begin{tabular}{lrrrrr}\n",
      "\\toprule\n",
      "{} & \\multicolumn{5}{l}{rainfall} \\\\\n",
      "year &         2009 &         2010 &         2011 &         2012 &         2013 \\\\\n",
      "district         &              &              &              &              &              \\\\\n",
      "\\midrule\n",
      "Ahmedabad        &   340.823185 &   893.161857 &  1080.290576 &   649.463576 &  1054.957016 \\\\\n",
      "Ajmer            &   272.033542 &   813.213799 &   533.825623 &   761.214038 &   618.968062 \\\\\n",
      "Alleppey         &  2881.500000 &  3892.800000 &  2862.500000 &  1917.400000 &  3363.100000 \\\\\n",
      "Alwar            &   549.105245 &   769.864465 &   798.828495 &   596.260627 &   891.118364 \\\\\n",
      "Ambala           &   935.484633 &  1985.648374 &  1967.333624 &  1600.237414 &  2095.490263 \\\\\n",
      "Amreli           &   520.655430 &   844.306201 &  1790.672246 &   367.585363 &   908.839534 \\\\\n",
      "Amritsar         &   477.142298 &   509.373791 &  1456.998631 &  1334.512327 &   700.007024 \\\\\n",
      "Banaskantha      &   307.197441 &  1025.999063 &   845.737051 &   635.856987 &   970.148572 \\\\\n",
      "Banswara         &   766.892392 &   597.734193 &  1233.708004 &  1217.754955 &  1227.421317 \\\\\n",
      "Barmer           &   220.097770 &   487.078096 &   489.685675 &   231.266602 &   422.220507 \\\\\n",
      "Baroda           &   665.643318 &  1103.857120 &   997.519046 &   911.962729 &  1517.601122 \\\\\n",
      "Bharatpur        &   480.851266 &   681.064338 &   768.308657 &   696.814821 &   726.828756 \\\\\n",
      "Bhatinda         &   350.461862 &   426.987467 &   421.719429 &   499.318175 &   418.319426 \\\\\n",
      "Bhavnagar        &   501.520510 &   739.201636 &  1932.903247 &   410.630387 &   847.916786 \\\\\n",
      "Bhilwara         &   260.680565 &   570.721608 &   669.633410 &   809.215724 &   549.238891 \\\\\n",
      "Bikaner          &   229.224606 &   505.226428 &   369.607810 &   355.206706 &   259.615829 \\\\\n",
      "Broach           &  1060.993839 &  1075.877432 &  1064.694619 &   747.138729 &  1475.611883 \\\\\n",
      "Bundi            &   491.937987 &   631.846067 &   794.695802 &   748.227628 &   800.723111 \\\\\n",
      "Cannanore        &  4036.420977 &  3485.971555 &  3326.154672 &  2615.007605 &  4331.992610 \\\\\n",
      "Chitorgarh       &   645.127480 &   785.936229 &   873.004068 &   828.176527 &  1179.100590 \\\\\n",
      "Churu            &   212.660835 &   579.658525 &   591.060576 &   439.177019 &   452.984290 \\\\\n",
      "Dangs            &  1255.281506 &  1288.906064 &  1489.258565 &  1211.357787 &  1604.470284 \\\\\n",
      "Dungarpur        &   688.595526 &   774.058402 &  1029.448676 &  1027.058320 &  1114.473767 \\\\\n",
      "Ernakulam        &  2607.199193 &  2997.139416 &  2443.392704 &  1705.818250 &  2872.857023 \\\\\n",
      "Ferozepur        &   258.391145 &   330.308001 &   403.354622 &   353.547410 &   664.532020 \\\\\n",
      "Ganganagar       &   164.695795 &   351.420125 &   407.210909 &   346.113446 &   170.652093 \\\\\n",
      "Gurdaspur        &  1032.427522 &   880.645666 &  1315.181686 &  1219.742316 &  1205.603921 \\\\\n",
      "Gurgaon          &   371.487168 &   727.798043 &   669.923624 &   493.408466 &   488.366791 \\\\\n",
      "Hissar           &   269.566196 &   365.541383 &   734.900316 &   496.883824 &   338.185130 \\\\\n",
      "Hoshiarpur       &   832.120531 &   981.677871 &  1498.037376 &  1126.254260 &  1013.331625 \\\\\n",
      "Jaipur           &   370.184660 &   762.625046 &   647.291099 &   716.485698 &   739.225841 \\\\\n",
      "Jaisalmer        &   108.397529 &   385.781062 &   285.246890 &   240.547427 &   231.842470 \\\\\n",
      "Jalor            &   238.449217 &   744.255098 &   698.904870 &   423.527833 &   708.197277 \\\\\n",
      "Jamnagar         &   915.078811 &  1423.033664 &   684.793824 &   410.824304 &   846.096353 \\\\\n",
      "Jhalawar         &   849.747952 &   638.624350 &  1547.105175 &   727.599709 &  1448.981289 \\\\\n",
      "Jhunjhunu        &   269.211482 &   530.592029 &   575.372020 &   553.154792 &   543.106398 \\\\\n",
      "Jodhpur          &   109.657803 &   510.423145 &   457.514883 &   363.654326 &   498.182821 \\\\\n",
      "Jullundur        &   645.126484 &   717.824218 &  1269.161485 &  1159.975898 &   642.668618 \\\\\n",
      "Junagadh         &   904.190424 &  1512.727734 &   700.194073 &   371.361570 &  1444.691331 \\\\\n",
      "Kaira            &   423.888664 &   986.372839 &   997.905343 &   773.665079 &  1252.844367 \\\\\n",
      "Kangra           &  1066.829088 &  1416.435823 &  1100.816710 &   917.520293 &  1273.675813 \\\\\n",
      "Kapurthala       &   599.367666 &   642.548243 &  1416.862962 &  1310.969201 &   562.222984 \\\\\n",
      "Karaikal         &  1585.674325 &  1750.388873 &  1813.914604 &  1445.566018 &  1007.609784 \\\\\n",
      "Karnal           &   489.141998 &   840.470734 &   711.577095 &   513.260636 &   684.998335 \\\\\n",
      "Kota             &   590.684220 &   648.157248 &  1370.476834 &   782.969526 &  1372.395203 \\\\\n",
      "Kottayam         &  2072.460362 &  2590.084834 &  2578.679112 &  1795.303788 &  2379.590018 \\\\\n",
      "Kozhikode        &  2967.957378 &  2815.313509 &  1915.911498 &  1557.399632 &  2554.076131 \\\\\n",
      "Kutch            &   426.065348 &   914.693325 &   687.861530 &   284.367771 &   649.857836 \\\\\n",
      "Lahaul and spiti &   969.113390 &  1330.737348 &   339.300000 &   655.032190 &  1042.767119 \\\\\n",
      "Ludhiana         &   694.954848 &   725.332042 &   893.454508 &   853.695422 &   609.198047 \\\\\n",
      "Mahe             &  3834.702029 &  3755.105884 &  3278.245598 &  2362.809496 &  3909.839203 \\\\\n",
      "Mahendragarh     &   317.557163 &   645.490246 &   567.567292 &   365.592528 &   519.490402 \\\\\n",
      "Mehsana          &   463.199248 &   884.783352 &   820.672254 &   592.329873 &  1048.843384 \\\\\n",
      "Nagaur           &   178.457222 &   630.442767 &   463.144003 &   512.123032 &   525.001813 \\\\\n",
      "Palghat          &  2351.605599 &  2132.292464 &  1869.104321 &  1425.796702 &  2281.089324 \\\\\n",
      "Pali             &   254.318927 &   686.097907 &   699.807887 &   621.643530 &   577.340452 \\\\\n",
      "Panchmahals      &   655.523479 &   891.668314 &   954.726340 &   998.342039 &  1341.215834 \\\\\n",
      "Patiala          &   970.533521 &   863.758771 &  1291.506183 &   906.157440 &   715.464549 \\\\\n",
      "Pondicherry      &  1458.116050 &  1468.676523 &  1415.649413 &  1330.639230 &   987.951432 \\\\\n",
      "Quilon           &  1662.129296 &  2171.559195 &  2470.301720 &  1730.269180 &  1919.496976 \\\\\n",
      "Rajkot           &   570.292554 &   989.977025 &   836.618455 &   375.459893 &   911.831589 \\\\\n",
      "Rohtak           &   316.625944 &   732.900006 &   551.043748 &   345.515395 &   471.183767 \\\\\n",
      "Sabarkantha      &   647.922139 &   814.692469 &   956.070007 &   898.007496 &  1098.035962 \\\\\n",
      "Sangrur          &   507.524409 &   622.301259 &   738.949014 &   603.713720 &   481.735177 \\\\\n",
      "Sawai madhopur   &   528.862465 &   661.813016 &   838.841002 &   764.363303 &   803.974644 \\\\\n",
      "Sikar            &   245.782994 &   760.323609 &   453.188189 &   643.546173 &   708.830892 \\\\\n",
      "Simla and mahasu &   934.247071 &  1390.696191 &  1503.646611 &  1141.766812 &  1405.821071 \\\\\n",
      "Sirohi           &   373.392254 &   994.433440 &  1011.387406 &   725.128080 &  1032.489514 \\\\\n",
      "Surat            &  1237.772268 &  1250.951834 &  1399.904553 &  1073.634357 &  1626.844942 \\\\\n",
      "Surendranagar    &   279.137140 &   693.323699 &  1414.571493 &   357.144150 &   622.032914 \\\\\n",
      "Tonk             &   358.334741 &   742.500539 &   665.764292 &   766.391415 &   676.236877 \\\\\n",
      "Trichur          &  2340.500000 &  2126.300000 &  2035.900000 &  1500.100000 &  2396.200000 \\\\\n",
      "Trivandrum       &   645.300000 &   609.300000 &  1688.300000 &  1276.100000 &   552.000000 \\\\\n",
      "Udaipur          &   523.119603 &   919.834662 &   833.045056 &   863.116345 &   987.066797 \\\\\n",
      "Yanam            &   663.088683 &  1859.649408 &   913.413820 &  1430.071372 &  1352.812984 \\\\\n",
      "\\bottomrule\n",
      "\\end{tabular}\n",
      "\n"
     ]
    }
   ],
   "source": [
    "print(annual_rain_df.to_latex())"
   ]
  },
  {
   "cell_type": "code",
   "execution_count": null,
   "metadata": {},
   "outputs": [],
   "source": []
  }
 ],
 "metadata": {
  "kernelspec": {
   "display_name": "conda_pytorch_latest_p36",
   "language": "python",
   "name": "conda_pytorch_latest_p36"
  },
  "language_info": {
   "codemirror_mode": {
    "name": "ipython",
    "version": 3
   },
   "file_extension": ".py",
   "mimetype": "text/x-python",
   "name": "python",
   "nbconvert_exporter": "python",
   "pygments_lexer": "ipython3",
   "version": "3.6.10"
  }
 },
 "nbformat": 4,
 "nbformat_minor": 4
}
