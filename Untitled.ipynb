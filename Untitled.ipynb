{
 "cells": [
  {
   "cell_type": "code",
   "execution_count": 45,
   "metadata": {},
   "outputs": [],
   "source": [
    "import pandas as pd\n",
    "import utils\n",
    "import matplotlib.pyplot as plt\n",
    "import seaborn as sns\n",
    "import matplotlib.dates as mdates\n",
    "import numpy as np\n",
    "\n",
    "sns.set(rc={'figure.figsize':(11,4)})\n",
    "\n",
    "JAIPUR_DIST_ID = 508"
   ]
  },
  {
   "cell_type": "code",
   "execution_count": 46,
   "metadata": {},
   "outputs": [],
   "source": [
    "time_df = utils.mergeCsvsInDirectory('data/DailyAverages')\n",
    "jaipur_df = time_df[time_df['unique_dist_id'] == JAIPUR_DIST_ID]\n",
    "jaipur_annual_df = jaipur_df.groupby(by=['month', 'day']).mean().drop(columns=['year', 'unique_dist_id']).reset_index()"
   ]
  },
  {
   "cell_type": "code",
   "execution_count": 73,
   "metadata": {},
   "outputs": [
    {
     "data": {
      "text/html": [
       "<div>\n",
       "<style scoped>\n",
       "    .dataframe tbody tr th:only-of-type {\n",
       "        vertical-align: middle;\n",
       "    }\n",
       "\n",
       "    .dataframe tbody tr th {\n",
       "        vertical-align: top;\n",
       "    }\n",
       "\n",
       "    .dataframe thead th {\n",
       "        text-align: right;\n",
       "    }\n",
       "</style>\n",
       "<table border=\"1\" class=\"dataframe\">\n",
       "  <thead>\n",
       "    <tr style=\"text-align: right;\">\n",
       "      <th></th>\n",
       "      <th>month</th>\n",
       "      <th>day</th>\n",
       "      <th>Unnamed: 0</th>\n",
       "      <th>rainfall</th>\n",
       "      <th>weightedAverageTemperature</th>\n",
       "      <th>weightedAverageRainfall</th>\n",
       "    </tr>\n",
       "    <tr>\n",
       "      <th>date</th>\n",
       "      <th></th>\n",
       "      <th></th>\n",
       "      <th></th>\n",
       "      <th></th>\n",
       "      <th></th>\n",
       "      <th></th>\n",
       "    </tr>\n",
       "  </thead>\n",
       "  <tbody>\n",
       "    <tr>\n",
       "      <th>2012-01-01</th>\n",
       "      <td>1</td>\n",
       "      <td>1</td>\n",
       "      <td>0.0</td>\n",
       "      <td>2.60</td>\n",
       "      <td>13.948485</td>\n",
       "      <td>0.571152</td>\n",
       "    </tr>\n",
       "    <tr>\n",
       "      <th>2012-01-02</th>\n",
       "      <td>1</td>\n",
       "      <td>2</td>\n",
       "      <td>1.0</td>\n",
       "      <td>0.00</td>\n",
       "      <td>13.303038</td>\n",
       "      <td>0.000000</td>\n",
       "    </tr>\n",
       "    <tr>\n",
       "      <th>2012-01-03</th>\n",
       "      <td>1</td>\n",
       "      <td>3</td>\n",
       "      <td>2.0</td>\n",
       "      <td>1.34</td>\n",
       "      <td>12.604427</td>\n",
       "      <td>0.352387</td>\n",
       "    </tr>\n",
       "    <tr>\n",
       "      <th>2012-01-04</th>\n",
       "      <td>1</td>\n",
       "      <td>4</td>\n",
       "      <td>3.0</td>\n",
       "      <td>0.00</td>\n",
       "      <td>12.873683</td>\n",
       "      <td>0.000000</td>\n",
       "    </tr>\n",
       "    <tr>\n",
       "      <th>2012-01-05</th>\n",
       "      <td>1</td>\n",
       "      <td>5</td>\n",
       "      <td>4.0</td>\n",
       "      <td>0.00</td>\n",
       "      <td>12.675401</td>\n",
       "      <td>0.000000</td>\n",
       "    </tr>\n",
       "    <tr>\n",
       "      <th>...</th>\n",
       "      <td>...</td>\n",
       "      <td>...</td>\n",
       "      <td>...</td>\n",
       "      <td>...</td>\n",
       "      <td>...</td>\n",
       "      <td>...</td>\n",
       "    </tr>\n",
       "    <tr>\n",
       "      <th>2012-12-27</th>\n",
       "      <td>12</td>\n",
       "      <td>27</td>\n",
       "      <td>360.2</td>\n",
       "      <td>0.00</td>\n",
       "      <td>14.499179</td>\n",
       "      <td>0.000000</td>\n",
       "    </tr>\n",
       "    <tr>\n",
       "      <th>2012-12-28</th>\n",
       "      <td>12</td>\n",
       "      <td>28</td>\n",
       "      <td>361.2</td>\n",
       "      <td>0.00</td>\n",
       "      <td>14.562102</td>\n",
       "      <td>0.000000</td>\n",
       "    </tr>\n",
       "    <tr>\n",
       "      <th>2012-12-29</th>\n",
       "      <td>12</td>\n",
       "      <td>29</td>\n",
       "      <td>362.2</td>\n",
       "      <td>0.00</td>\n",
       "      <td>14.441704</td>\n",
       "      <td>0.000000</td>\n",
       "    </tr>\n",
       "    <tr>\n",
       "      <th>2012-12-30</th>\n",
       "      <td>12</td>\n",
       "      <td>30</td>\n",
       "      <td>363.2</td>\n",
       "      <td>0.00</td>\n",
       "      <td>13.992634</td>\n",
       "      <td>0.000000</td>\n",
       "    </tr>\n",
       "    <tr>\n",
       "      <th>2012-12-31</th>\n",
       "      <td>12</td>\n",
       "      <td>31</td>\n",
       "      <td>364.2</td>\n",
       "      <td>0.00</td>\n",
       "      <td>13.722251</td>\n",
       "      <td>0.000000</td>\n",
       "    </tr>\n",
       "  </tbody>\n",
       "</table>\n",
       "<p>366 rows × 6 columns</p>\n",
       "</div>"
      ],
      "text/plain": [
       "            month  day  Unnamed: 0  rainfall  weightedAverageTemperature  \\\n",
       "date                                                                       \n",
       "2012-01-01      1    1         0.0      2.60                   13.948485   \n",
       "2012-01-02      1    2         1.0      0.00                   13.303038   \n",
       "2012-01-03      1    3         2.0      1.34                   12.604427   \n",
       "2012-01-04      1    4         3.0      0.00                   12.873683   \n",
       "2012-01-05      1    5         4.0      0.00                   12.675401   \n",
       "...           ...  ...         ...       ...                         ...   \n",
       "2012-12-27     12   27       360.2      0.00                   14.499179   \n",
       "2012-12-28     12   28       361.2      0.00                   14.562102   \n",
       "2012-12-29     12   29       362.2      0.00                   14.441704   \n",
       "2012-12-30     12   30       363.2      0.00                   13.992634   \n",
       "2012-12-31     12   31       364.2      0.00                   13.722251   \n",
       "\n",
       "            weightedAverageRainfall  \n",
       "date                                 \n",
       "2012-01-01                 0.571152  \n",
       "2012-01-02                 0.000000  \n",
       "2012-01-03                 0.352387  \n",
       "2012-01-04                 0.000000  \n",
       "2012-01-05                 0.000000  \n",
       "...                             ...  \n",
       "2012-12-27                 0.000000  \n",
       "2012-12-28                 0.000000  \n",
       "2012-12-29                 0.000000  \n",
       "2012-12-30                 0.000000  \n",
       "2012-12-31                 0.000000  \n",
       "\n",
       "[366 rows x 6 columns]"
      ]
     },
     "execution_count": 73,
     "metadata": {},
     "output_type": "execute_result"
    }
   ],
   "source": [
    "jaipur_annual_df['date'] = jaipur_annual_df['month'].astype(str) + '-' + jaipur_annual_df['day'] .astype(str) + '-' + '2012'\n",
    "jaipur_annual_df['date'] = pd.to_datetime(jaipur_annual_df['date'])\n",
    "jaipur_annual_df = jaipur_annual_df.set_index('date')\n",
    "jaipur_annual_df"
   ]
  },
  {
   "cell_type": "code",
   "execution_count": 87,
   "metadata": {},
   "outputs": [
    {
     "data": {
      "image/png": "[encoded data removed]",
      "text/plain": [
       "<Figure size 792x288 with 1 Axes>"
      ]
     },
     "metadata": {},
     "output_type": "display_data"
    }
   ],
   "source": [
    "years = mdates.YearLocator()   # every year\n",
    "months = mdates.MonthLocator()  # every month\n",
    "\n",
    "fig, ax = plt.subplots()\n",
    "\n",
    "ax.scatter(jaipur_annual_df.index, jaipur_annual_df.loc['2012', \"weightedAverageRainfall\"])\n",
    "ax.set_xlabel('Date');\n",
    "ax.set_ylabel('Rainfall (mm)');\n",
    "\n",
    "# format the ticks\n",
    "ax.xaxis.set_major_locator(months)\n",
    "ax.xaxis.set_minor_locator(months)\n",
    "\n",
    "# rotates and right aligns the x labels, and moves the bottom of the\n",
    "# axes up to make room for them\n",
    "fig.autofmt_xdate()"
   ]
  },
  {
   "cell_type": "markdown",
   "metadata": {},
   "source": [
    "How do we determine what day the monsoon starts and ends?"
   ]
  },
  {
   "cell_type": "code",
   "execution_count": 89,
   "metadata": {},
   "outputs": [
    {
     "data": {
      "text/plain": [
       "<matplotlib.lines.Line2D at 0x7f9488befef0>"
      ]
     },
     "execution_count": 89,
     "metadata": {},
     "output_type": "execute_result"
    },
    {
     "data": {
      "image/png": "[encoded data removed]",
      "text/plain": [
       "<Figure size 792x288 with 1 Axes>"
      ]
     },
     "metadata": {},
     "output_type": "display_data"
    }
   ],
   "source": [
    "years = mdates.YearLocator()   # every year\n",
    "months = mdates.MonthLocator()  # every month\n",
    "\n",
    "fig, ax = plt.subplots()\n",
    "\n",
    "ax.scatter(jaipur_annual_df.index, jaipur_annual_df.loc['2012', \"weightedAverageRainfall\"])\n",
    "ax.set_xlabel('Date');\n",
    "ax.set_ylabel('Rainfall (mm)');\n",
    "\n",
    "# format the ticks\n",
    "ax.xaxis.set_major_locator(months)\n",
    "ax.xaxis.set_minor_locator(months)\n",
    "\n",
    "# rotates and right aligns the x labels, and moves the bottom of the\n",
    "# axes up to make room for them\n",
    "fig.autofmt_xdate()\n",
    "\n",
    "plt.axvline(x=pd.to_datetime('2012-06-12'), c='red')\n",
    "plt.axvline(x=pd.to_datetime('2012-10-12'), c='red')"
   ]
  },
  {
   "cell_type": "markdown",
   "metadata": {},
   "source": []
  },
  {
   "cell_type": "code",
   "execution_count": null,
   "metadata": {},
   "outputs": [],
   "source": []
  }
 ],
 "metadata": {
  "kernelspec": {
   "display_name": "conda_pytorch_p36",
   "language": "python",
   "name": "conda_pytorch_p36"
  },
  "language_info": {
   "codemirror_mode": {
    "name": "ipython",
    "version": 3
   },
   "file_extension": ".py",
   "mimetype": "text/x-python",
   "name": "python",
   "nbconvert_exporter": "python",
   "pygments_lexer": "ipython3",
   "version": "3.6.10"
  }
 },
 "nbformat": 4,
 "nbformat_minor": 4
}
