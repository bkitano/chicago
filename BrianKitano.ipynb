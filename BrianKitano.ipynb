{
 "cells": [
  {
   "cell_type": "code",
   "execution_count": 1,
   "metadata": {},
   "outputs": [],
   "source": [
    "import pandas as pd\n",
    "import glob\n"
   ]
  },
  {
   "cell_type": "markdown",
   "metadata": {},
   "source": [
    "# Brian Kitano Coding Test\n",
    "\n",
    "Start: 9:23 AM"
   ]
  },
  {
   "cell_type": "markdown",
   "metadata": {},
   "source": [
    "## 2. Data Cleaning\n",
    "\n",
    "Start: 9:23 AM"
   ]
  },
  {
   "cell_type": "markdown",
   "metadata": {},
   "source": [
    "The central task is to collapse the grid-level dataset into a district-level dataset.\n",
    "\n",
    "The final product from this section is a district-level daily dataset from 2009-2013 with temperature, rainfall, and total rainfall variables."
   ]
  },
  {
   "cell_type": "markdown",
   "metadata": {},
   "source": [
    "Steps:\n",
    "1. Calculate the set of points $P$ to include for each district.\n",
    "2. Use the formulas to calculate the district statistic."
   ]
  },
  {
   "cell_type": "markdown",
   "metadata": {},
   "source": [
    "The actual EPIC project used 339 districts in India, 112 years of data and a 0.25°(latitude) x 0.25°(longitude) grid for rainfall. How would your code scale up with this larger dataset? Would you need any additional computing resources? Be as specific as possible."
   ]
  },
  {
   "cell_type": "markdown",
   "metadata": {},
   "source": [
    "### Response"
   ]
  },
  {
   "cell_type": "markdown",
   "metadata": {},
   "source": [
    "Algorithm: weighted average of daily mean temp, mean rainfall, and total rainfall for all grid points w/in 100km of each district's geographic center. Weights are inverse of the squared distance from the district center.\n",
    "\n",
    "$$\n",
    "\\bar t = \\frac{1}{|P|} \\sum_{p \\in P} \\frac{t_p}{(d - p)^2}\n",
    "$$\n",
    "$$\n",
    "\\bar r = \\frac{1}{|P|} \\sum_{p \\in P} \\frac{r_p}{(d - p)^2}\n",
    "$$\n",
    "$$\n",
    "R = \\sum_{p \\in P} \\frac{r_p}{(d - p)^2}\n",
    "$$\n",
    "\n",
    "where $P$ is the set of points within 100km of the district centroid, $d$ is the district centroid.\n"
   ]
  },
  {
   "cell_type": "markdown",
   "metadata": {},
   "source": [
    "Assumptions:\n",
    "- Are the `rainfall` csv's identical?"
   ]
  },
  {
   "cell_type": "code",
   "execution_count": 31,
   "metadata": {},
   "outputs": [
    {
     "data": {
      "text/plain": [
       "350765"
      ]
     },
     "execution_count": 31,
     "metadata": {},
     "output_type": "execute_result"
    }
   ],
   "source": [
    "dd = pd.read_csv('./data/Rainfall/rainfall_2010.csv')\n",
    "len(dd)"
   ]
  },
  {
   "cell_type": "code",
   "execution_count": 4,
   "metadata": {},
   "outputs": [],
   "source": [
    "# TODO: move to utils file\n",
    "def mergeCsvsInDirectory(path):\n",
    "    all_files = glob.glob(path + \"/*.csv\")\n",
    "\n",
    "    li = []\n",
    "\n",
    "    for filename in all_files:\n",
    "        df = pd.read_csv(filename, index_col=None, header=0)\n",
    "        li.append(df)\n",
    "\n",
    "    mergedDf = pd.concat(li, axis=0, ignore_index=True)\n",
    "    return mergedDf"
   ]
  },
  {
   "cell_type": "code",
   "execution_count": 5,
   "metadata": {},
   "outputs": [],
   "source": [
    "raw_rain_df = mergeCsvsInDirectory('./data/Rainfall/')\n",
    "raw_temp_df = mergeCsvsInDirectory('./data/Temperature/')\n"
   ]
  },
  {
   "cell_type": "markdown",
   "metadata": {},
   "source": [
    "In order to do our analysis, we need to ensure that every entry has at least a day, month, year, latitude and longitude. Let's remove any that don't."
   ]
  },
  {
   "cell_type": "code",
   "execution_count": 6,
   "metadata": {},
   "outputs": [],
   "source": [
    "\n",
    "def getDefinedRows(df):\n",
    "    rows_with_data = \\\n",
    "        pd.notna(df['latitude']) & \\\n",
    "        pd.notna(df['longitude']) & \\\n",
    "        pd.notna(df['day']) & \\\n",
    "        pd.notna(df['month']) & \\\n",
    "        pd.notna(df['year'])\n",
    "    \n",
    "    return rows_with_data\n",
    "\n",
    "rain_df = raw_rain_df[getDefinedRows(raw_rain_df)]\n",
    "temp_df = raw_temp_df[getDefinedRows(raw_temp_df)]"
   ]
  },
  {
   "cell_type": "markdown",
   "metadata": {},
   "source": [
    "We'll want to create an `index` column in both dataframes so that we can join them. The index needs to be identical in both data frames. Note that the `date` column is formatted differently in each dataframe, but `day`, `month`, and `year` are the same. Our index will be `{lat}_{long}_{month}_{day}_{year}`."
   ]
  },
  {
   "cell_type": "code",
   "execution_count": 7,
   "metadata": {},
   "outputs": [],
   "source": [
    "def getIndex(df):\n",
    "    indexColumn = \\\n",
    "    df[\"latitude\"].astype(str) + '-' + \\\n",
    "    df[\"longitude\"].astype(str) + '-' + \\\n",
    "    df[\"month\"].astype(str) + '-' + \\\n",
    "    df[\"day\"].astype(str) + '-' + \\\n",
    "    df[\"year\"].astype(str)\n",
    "    \n",
    "    return indexColumn\n",
    "    "
   ]
  },
  {
   "cell_type": "markdown",
   "metadata": {},
   "source": [
    "The following approach won't scale well if there's a lot of years. "
   ]
  },
  {
   "cell_type": "code",
   "execution_count": 40,
   "metadata": {},
   "outputs": [
    {
     "data": {
      "text/plain": [
       "True"
      ]
     },
     "execution_count": 40,
     "metadata": {},
     "output_type": "execute_result"
    }
   ],
   "source": [
    "len(temp_df) == len(temp_df)"
   ]
  },
  {
   "cell_type": "code",
   "execution_count": 18,
   "metadata": {},
   "outputs": [],
   "source": [
    "on_columns = ['latitude', 'longitude', 'day', 'month', 'year']\n",
    "total_df = rain_df.merge(temp_df, how='outer', left_on=on_columns, right_on=on_columns)"
   ]
  },
  {
   "cell_type": "code",
   "execution_count": 22,
   "metadata": {},
   "outputs": [
    {
     "data": {
      "text/plain": [
       "True"
      ]
     },
     "execution_count": 22,
     "metadata": {},
     "output_type": "execute_result"
    }
   ],
   "source": [
    "# sanity check\n",
    "len(total_df) == len(rain_df) & len(total_df) == len(temp_df)"
   ]
  },
  {
   "cell_type": "code",
   "execution_count": 27,
   "metadata": {},
   "outputs": [
    {
     "name": "stdout",
     "output_type": "stream",
     "text": [
      "rainfall values: 564234\n",
      "temp values: 644062\n"
     ]
    }
   ],
   "source": [
    "rainfall_values = sum(pd.notna(total_df['rainfall']))\n",
    "print(f'rainfall values: {rainfall_values}')\n",
    "\n",
    "temp_values = sum(pd.notna(total_df['temperature']))\n",
    "print(f'temp values: {temp_values}')"
   ]
  },
  {
   "cell_type": "code",
   "execution_count": 28,
   "metadata": {},
   "outputs": [],
   "source": [
    "total_df.to_csv('./total.csv')"
   ]
  },
  {
   "cell_type": "code",
   "execution_count": null,
   "metadata": {},
   "outputs": [],
   "source": []
  }
 ],
 "metadata": {
  "kernelspec": {
   "display_name": "conda_pytorch_p36",
   "language": "python",
   "name": "conda_pytorch_p36"
  },
  "language_info": {
   "codemirror_mode": {
    "name": "ipython",
    "version": 3
   },
   "file_extension": ".py",
   "mimetype": "text/x-python",
   "name": "python",
   "nbconvert_exporter": "python",
   "pygments_lexer": "ipython3",
   "version": "3.6.10"
  }
 },
 "nbformat": 4,
 "nbformat_minor": 4
}
