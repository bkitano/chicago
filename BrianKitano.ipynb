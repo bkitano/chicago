{
 "cells": [
  {
   "cell_type": "code",
   "execution_count": 7,
   "metadata": {},
   "outputs": [],
   "source": [
    "import pandas as pd\n",
    "import glob"
   ]
  },
  {
   "cell_type": "markdown",
   "metadata": {},
   "source": [
    "# Brian Kitano Coding Test\n",
    "\n",
    "Start: 9:23 AM"
   ]
  },
  {
   "cell_type": "markdown",
   "metadata": {},
   "source": [
    "## 2. Data Cleaning\n",
    "\n",
    "Start: 9:23 AM"
   ]
  },
  {
   "cell_type": "markdown",
   "metadata": {},
   "source": [
    "The central task is to collapse the grid-level dataset into a district-level dataset.\n",
    "\n",
    "The final product from this section is a district-level daily dataset from 2009-2013 with temperature, rainfall, and total rainfall variables."
   ]
  },
  {
   "cell_type": "markdown",
   "metadata": {},
   "source": [
    "Steps:\n",
    "1. Calculate the set of points $P$ to include for each district.\n",
    "2. Use the formulas to calculate the district statistic."
   ]
  },
  {
   "cell_type": "markdown",
   "metadata": {},
   "source": [
    "The actual EPIC project used 339 districts in India, 112 years of data and a 0.25°(latitude) x 0.25°(longitude) grid for rainfall. How would your code scale up with this larger dataset? Would you need any additional computing resources? Be as specific as possible."
   ]
  },
  {
   "cell_type": "markdown",
   "metadata": {},
   "source": [
    "### Response"
   ]
  },
  {
   "cell_type": "code",
   "execution_count": 8,
   "metadata": {},
   "outputs": [],
   "source": [
    "district_df = pd.read_csv('./data/DailyAverages/districtDailyAverage_2009.csv')"
   ]
  },
  {
   "cell_type": "code",
   "execution_count": 9,
   "metadata": {},
   "outputs": [
    {
     "data": {
      "text/html": [
       "<div>\n",
       "<style scoped>\n",
       "    .dataframe tbody tr th:only-of-type {\n",
       "        vertical-align: middle;\n",
       "    }\n",
       "\n",
       "    .dataframe tbody tr th {\n",
       "        vertical-align: top;\n",
       "    }\n",
       "\n",
       "    .dataframe thead th {\n",
       "        text-align: right;\n",
       "    }\n",
       "</style>\n",
       "<table border=\"1\" class=\"dataframe\">\n",
       "  <thead>\n",
       "    <tr style=\"text-align: right;\">\n",
       "      <th></th>\n",
       "      <th>Unnamed: 0</th>\n",
       "      <th>month</th>\n",
       "      <th>day</th>\n",
       "      <th>year</th>\n",
       "      <th>unique_dist_id</th>\n",
       "      <th>rainfall</th>\n",
       "      <th>weightedAverageTemperature</th>\n",
       "      <th>weightedAverageRainfall</th>\n",
       "    </tr>\n",
       "  </thead>\n",
       "  <tbody>\n",
       "    <tr>\n",
       "      <th>0</th>\n",
       "      <td>0</td>\n",
       "      <td>1</td>\n",
       "      <td>1</td>\n",
       "      <td>2009</td>\n",
       "      <td>1711.0</td>\n",
       "      <td>0.0</td>\n",
       "      <td>20.914830</td>\n",
       "      <td>0.0</td>\n",
       "    </tr>\n",
       "    <tr>\n",
       "      <th>1</th>\n",
       "      <td>1</td>\n",
       "      <td>1</td>\n",
       "      <td>2</td>\n",
       "      <td>2009</td>\n",
       "      <td>1711.0</td>\n",
       "      <td>0.0</td>\n",
       "      <td>20.753485</td>\n",
       "      <td>0.0</td>\n",
       "    </tr>\n",
       "    <tr>\n",
       "      <th>2</th>\n",
       "      <td>2</td>\n",
       "      <td>1</td>\n",
       "      <td>3</td>\n",
       "      <td>2009</td>\n",
       "      <td>1711.0</td>\n",
       "      <td>0.0</td>\n",
       "      <td>21.721004</td>\n",
       "      <td>0.0</td>\n",
       "    </tr>\n",
       "    <tr>\n",
       "      <th>3</th>\n",
       "      <td>3</td>\n",
       "      <td>1</td>\n",
       "      <td>4</td>\n",
       "      <td>2009</td>\n",
       "      <td>1711.0</td>\n",
       "      <td>0.0</td>\n",
       "      <td>20.808286</td>\n",
       "      <td>0.0</td>\n",
       "    </tr>\n",
       "    <tr>\n",
       "      <th>4</th>\n",
       "      <td>4</td>\n",
       "      <td>1</td>\n",
       "      <td>5</td>\n",
       "      <td>2009</td>\n",
       "      <td>1711.0</td>\n",
       "      <td>0.0</td>\n",
       "      <td>21.258053</td>\n",
       "      <td>0.0</td>\n",
       "    </tr>\n",
       "    <tr>\n",
       "      <th>...</th>\n",
       "      <td>...</td>\n",
       "      <td>...</td>\n",
       "      <td>...</td>\n",
       "      <td>...</td>\n",
       "      <td>...</td>\n",
       "      <td>...</td>\n",
       "      <td>...</td>\n",
       "      <td>...</td>\n",
       "    </tr>\n",
       "    <tr>\n",
       "      <th>27370</th>\n",
       "      <td>360</td>\n",
       "      <td>12</td>\n",
       "      <td>27</td>\n",
       "      <td>2009</td>\n",
       "      <td>520.0</td>\n",
       "      <td>0.0</td>\n",
       "      <td>17.437679</td>\n",
       "      <td>0.0</td>\n",
       "    </tr>\n",
       "    <tr>\n",
       "      <th>27371</th>\n",
       "      <td>361</td>\n",
       "      <td>12</td>\n",
       "      <td>28</td>\n",
       "      <td>2009</td>\n",
       "      <td>520.0</td>\n",
       "      <td>0.0</td>\n",
       "      <td>17.825392</td>\n",
       "      <td>0.0</td>\n",
       "    </tr>\n",
       "    <tr>\n",
       "      <th>27372</th>\n",
       "      <td>362</td>\n",
       "      <td>12</td>\n",
       "      <td>29</td>\n",
       "      <td>2009</td>\n",
       "      <td>520.0</td>\n",
       "      <td>0.0</td>\n",
       "      <td>18.287679</td>\n",
       "      <td>0.0</td>\n",
       "    </tr>\n",
       "    <tr>\n",
       "      <th>27373</th>\n",
       "      <td>363</td>\n",
       "      <td>12</td>\n",
       "      <td>30</td>\n",
       "      <td>2009</td>\n",
       "      <td>520.0</td>\n",
       "      <td>0.0</td>\n",
       "      <td>18.142389</td>\n",
       "      <td>0.0</td>\n",
       "    </tr>\n",
       "    <tr>\n",
       "      <th>27374</th>\n",
       "      <td>364</td>\n",
       "      <td>12</td>\n",
       "      <td>31</td>\n",
       "      <td>2009</td>\n",
       "      <td>520.0</td>\n",
       "      <td>0.0</td>\n",
       "      <td>17.443925</td>\n",
       "      <td>0.0</td>\n",
       "    </tr>\n",
       "  </tbody>\n",
       "</table>\n",
       "<p>27375 rows × 8 columns</p>\n",
       "</div>"
      ],
      "text/plain": [
       "       Unnamed: 0  month  day  year  unique_dist_id  rainfall  \\\n",
       "0               0      1    1  2009          1711.0       0.0   \n",
       "1               1      1    2  2009          1711.0       0.0   \n",
       "2               2      1    3  2009          1711.0       0.0   \n",
       "3               3      1    4  2009          1711.0       0.0   \n",
       "4               4      1    5  2009          1711.0       0.0   \n",
       "...           ...    ...  ...   ...             ...       ...   \n",
       "27370         360     12   27  2009           520.0       0.0   \n",
       "27371         361     12   28  2009           520.0       0.0   \n",
       "27372         362     12   29  2009           520.0       0.0   \n",
       "27373         363     12   30  2009           520.0       0.0   \n",
       "27374         364     12   31  2009           520.0       0.0   \n",
       "\n",
       "       weightedAverageTemperature  weightedAverageRainfall  \n",
       "0                       20.914830                      0.0  \n",
       "1                       20.753485                      0.0  \n",
       "2                       21.721004                      0.0  \n",
       "3                       20.808286                      0.0  \n",
       "4                       21.258053                      0.0  \n",
       "...                           ...                      ...  \n",
       "27370                   17.437679                      0.0  \n",
       "27371                   17.825392                      0.0  \n",
       "27372                   18.287679                      0.0  \n",
       "27373                   18.142389                      0.0  \n",
       "27374                   17.443925                      0.0  \n",
       "\n",
       "[27375 rows x 8 columns]"
      ]
     },
     "execution_count": 9,
     "metadata": {},
     "output_type": "execute_result"
    }
   ],
   "source": [
    "district_df"
   ]
  },
  {
   "cell_type": "markdown",
   "metadata": {},
   "source": [
    "Each year-district takes about one second, so if there were "
   ]
  }
 ],
 "metadata": {
  "kernelspec": {
   "display_name": "conda_pytorch_p36",
   "language": "python",
   "name": "conda_pytorch_p36"
  },
  "language_info": {
   "codemirror_mode": {
    "name": "ipython",
    "version": 3
   },
   "file_extension": ".py",
   "mimetype": "text/x-python",
   "name": "python",
   "nbconvert_exporter": "python",
   "pygments_lexer": "ipython3",
   "version": "3.6.10"
  }
 },
 "nbformat": 4,
 "nbformat_minor": 4
}
