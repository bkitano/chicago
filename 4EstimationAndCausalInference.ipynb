{
 "cells": [
  {
   "cell_type": "markdown",
   "metadata": {},
   "source": [
    "# 4. Estimation and Causal Inference"
   ]
  },
  {
   "cell_type": "markdown",
   "metadata": {},
   "source": [
    "## 1. Write out a simple econometric model regressing mortality on temperature."
   ]
  },
  {
   "cell_type": "markdown",
   "metadata": {},
   "source": [
    "Before we regress mortality on temperature, we need to ensure our observations fit the assumptions required for linear regression:\n",
    "- **Linear relationship**: if a place is too cold, then the mortality is probably high as well, so we might expect a U shaped relationship instead of a purely linear one. However, given that we are conditioning on a country that is almost always warm, that might not be a problem."
   ]
  },
  {
   "cell_type": "markdown",
   "metadata": {},
   "source": [
    "- **Multivariate normality**"
   ]
  },
  {
   "cell_type": "code",
   "execution_count": 14,
   "metadata": {},
   "outputs": [],
   "source": [
    "import pandas as pd\n",
    "import pylab\n",
    "import scipy.stats as stats\n",
    "import numpy as np"
   ]
  },
  {
   "cell_type": "code",
   "execution_count": 15,
   "metadata": {},
   "outputs": [
    {
     "data": {
      "text/plain": [
       "<matplotlib.axes._subplots.AxesSubplot at 0x7f49b3902ac8>"
      ]
     },
     "execution_count": 15,
     "metadata": {},
     "output_type": "execute_result"
    },
    {
     "data": {
      "image/png": "[encoded data removed]",
      "text/plain": [
       "<Figure size 432x288 with 1 Axes>"
      ]
     },
     "metadata": {
      "needs_background": "light"
     },
     "output_type": "display_data"
    }
   ],
   "source": [
    "df = pd.read_csv('./data/DailyAverages/districtDailyAverage_2011.csv').groupby('unique_dist_id').mean()\n",
    "df['weightedAverageTemperature'].hist()"
   ]
  },
  {
   "cell_type": "code",
   "execution_count": 16,
   "metadata": {},
   "outputs": [
    {
     "data": {
      "image/png": "[encoded data removed]",
      "text/plain": [
       "<Figure size 432x288 with 1 Axes>"
      ]
     },
     "metadata": {
      "needs_background": "light"
     },
     "output_type": "display_data"
    }
   ],
   "source": [
    "stats.probplot(df['weightedAverageTemperature'], dist='norm', plot=pylab)\n",
    "pylab.show()"
   ]
  },
  {
   "cell_type": "markdown",
   "metadata": {},
   "source": [
    "Overall, our observations appear multivariate normal, so this assumption is satisfied."
   ]
  },
  {
   "cell_type": "markdown",
   "metadata": {},
   "source": [
    "- **No or little multicollinearity**: since there is a single independent variable, we don't have to worry about multicollinearity."
   ]
  },
  {
   "cell_type": "markdown",
   "metadata": {},
   "source": [
    "- **No auto-correlation**: since we are using the yearly average data across independent regions, there is no auto-correlation."
   ]
  },
  {
   "cell_type": "markdown",
   "metadata": {},
   "source": [
    "- **Homoscedasticity**: in order to check for homoskedasticity, we can look at the residuals on the QQ plot. The residuals don't look terrible for the most part. "
   ]
  },
  {
   "cell_type": "markdown",
   "metadata": {},
   "source": [
    "Seeing that we've met the assumptions for performing linear regression, we can continue. If we regress mortality on temperature (assuming mortality is measured in deaths per 1000 per year), we would use simple linear regression:\n",
    "$$\n",
    "y_i = \\hat \\beta_1 x_i + \\beta_0,\n",
    "$$\n",
    "where $y$ is the mortality, $m$ is the coefficient (change in mortality per change in unit temperature), $x$ is the temperature, and $b$ is the baseline intercept. A few considerations we'd want to make:\n",
    "- what are the confounding variables?\n",
    " - if it's cheaper to be poor in warmer places (like in the United States), and given that poor people can't afford good healthcare, you would expect people with worse healthcare to be in warmer areas. Thus wealth could be a confounding variable, and muddles a causal relationship between temperature and mortality."
   ]
  },
  {
   "cell_type": "markdown",
   "metadata": {},
   "source": [
    "## 2. Suppose you estimate the model using OLS and obtain a coefficient of 0.05 with a standard error of 0.02. Interpret this result."
   ]
  },
  {
   "cell_type": "markdown",
   "metadata": {},
   "source": [
    "Suppose we used Ordinary Least Squares to estimate the model and obtained \n",
    "$$\n",
    "\\hat \\beta = .05, \\text{se} = .02\n",
    "$$"
   ]
  },
  {
   "cell_type": "markdown",
   "metadata": {},
   "source": [
    "This could be interpreted as, \"for every one degree increase in average annual temperature, there is a .05 increase in deaths per thousand people per year.\" The standard error of the coefficient being .02 can be interpreted as a 95% confidence interval for the true parameter, which is between .01 and .09. The relationship is thus positive with a significance level at 5%. The t-statistic is .05 / .02 = 2.5, so our regression coefficient is 2.5 standard deviations from the null hypothesis that there is no relationship between temperature and mortality."
   ]
  },
  {
   "cell_type": "markdown",
   "metadata": {},
   "source": [
    "## 3. The effect of temperature on mortality is very likely nonlinear. How would you modify your model above to estimate any potential nonlinearities?"
   ]
  },
  {
   "cell_type": "markdown",
   "metadata": {},
   "source": [
    "If we wanted to rectify potential nonlinearites, we could try LOESS is a simple generalization of linear regression, and is similar to the method we used to calculate district statustics: weighting nearby points to do regress on each datapoint. This would lower the bias of our model, but could increase the variance, since we may be overfitting."
   ]
  },
  {
   "cell_type": "markdown",
   "metadata": {},
   "source": [
    "## 4. Is your parameter of interest identified? How could you use a)fixed effects and b) other control variables to remove potentially confounding factors? "
   ]
  },
  {
   "cell_type": "markdown",
   "metadata": {},
   "source": [
    "The parameter of interest here is $\\beta$, the effect of temperature on mortality. To use a fixed effects model, we would introduce a fixed variable for each state, since the state each data point was taken in doesn't change over time. \n",
    "\n",
    "Rainfall could be a confounding variable, as the relationship between rain and temperature is likely second-order, and the relationship between rainfall and mortality is probably causal. In addition, since rainfall and temperature are related, we might want to introduce an interaction between rainfall and temperature. Finally, we could add a variable for the year, although due to global warming the year increasing may correlate highly with temperature, so we should probably experiment with a year/no-year model."
   ]
  },
  {
   "cell_type": "markdown",
   "metadata": {},
   "source": [
    "## 5. Write out a full econometric model addressing the concerns raised in 3 and 4. How should the standard errors from this specification be estimated?"
   ]
  },
  {
   "cell_type": "markdown",
   "metadata": {},
   "source": [
    "A full econometric model addressing the concerns raised in 3 and 4 could be the following:\n",
    "$$\n",
    "m = t + r + rt + s + y,\n",
    "$$\n",
    "\n",
    "where $m$ is the mortality, $t$ is the temperature, $r$ is the rainfall, $s$ is the state fixed effect, and $y$ is the year fixed effect. Standard implementations of LOESS also calculate the standard error for each parameter."
   ]
  }
 ],
 "metadata": {
  "kernelspec": {
   "display_name": "conda_pytorch_p36",
   "language": "python",
   "name": "conda_pytorch_p36"
  },
  "language_info": {
   "codemirror_mode": {
    "name": "ipython",
    "version": 3
   },
   "file_extension": ".py",
   "mimetype": "text/x-python",
   "name": "python",
   "nbconvert_exporter": "python",
   "pygments_lexer": "ipython3",
   "version": "3.6.10"
  }
 },
 "nbformat": 4,
 "nbformat_minor": 4
}
